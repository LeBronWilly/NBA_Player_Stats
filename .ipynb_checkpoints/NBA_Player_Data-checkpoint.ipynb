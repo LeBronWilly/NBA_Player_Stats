{
 "cells": [
  {
   "cell_type": "code",
   "execution_count": null,
   "id": "09dfbbb3",
   "metadata": {},
   "outputs": [],
   "source": [
    "# -*- coding: utf-8 -*-\n",
    "\"\"\"\n",
    "Created on 05/13, 2023\n",
    "@author: WillyF\n",
    "\n",
    "\"\"\"\n",
    "# https://data.world/etocco/nba-player-stats\n",
    "# https://www.basketball-reference.com/leagues/NBA_1997_per_game.html\n",
    "# https://www.statscrew.com/basketball/t-WSB\n",
    "\n",
    "\n"
   ]
  },
  {
   "cell_type": "code",
   "execution_count": null,
   "id": "f9dc2d21",
   "metadata": {},
   "outputs": [],
   "source": [
    "import pandas as pd\n",
    "import urllib.request\n",
    "import json\n",
    "import numpy as np\n",
    "# from glob import glob\n",
    "import os\n",
    "from warnings import filterwarnings\n",
    "filterwarnings(\"ignore\")\n",
    "pd.set_option('display.max_columns', 500)\n",
    "pd.set_option('display.max_rows', 500)"
   ]
  },
  {
   "cell_type": "code",
   "execution_count": null,
   "id": "92f5a6d9",
   "metadata": {},
   "outputs": [],
   "source": [
    "stats_append_1996_97 = pd.read_csv('https://raw.githubusercontent.com/LeBronWilly/NBA_Player_Stats/main/1996-97_Stats_Append.txt').fillna(0.000).drop(columns=[\"Player-additional\"])\n",
    "stats_append_1996_97[\"Season\"] = \"1996-97\"\n",
    "stats_append_1996_97[\"MVP\"] = False\n",
    "stats_append_1996_97.loc[stats_append_1996_97[\"Player\"].str.contains(\"Karl Malone\", regex=False),\"MVP\"] = True\n",
    "\n",
    "stats_append_2022_23 = pd.read_csv('https://raw.githubusercontent.com/LeBronWilly/NBA_Player_Stats/main/2022-23_Stats_Append.txt').fillna(0.000).drop(columns=[\"Player-additional\"])\n",
    "stats_append_2022_23[\"Season\"] = \"2022-23\"\n",
    "stats_append_2022_23[\"MVP\"] = False\n",
    "stats_append_2022_23.loc[stats_append_2022_23[\"Player\"].str.contains(\"Joel Embiid\", regex=False),\"MVP\"] = True"
   ]
  },
  {
   "cell_type": "code",
   "execution_count": null,
   "id": "7f789801",
   "metadata": {
    "scrolled": true
   },
   "outputs": [],
   "source": [
    "nba_team_list = pd.read_csv('https://raw.githubusercontent.com/LeBronWilly/NBA_Player_Stats/main/NBA_Team_List.csv').fillna(0.000)\n",
    "nba_player_df = pd.read_csv('https://query.data.world/s/ty4piswbrsp54noyh2bdvrjecv24ta?dws=00000').fillna(0.000)\n",
    "nba_player_df = pd.concat([nba_player_df,stats_append_1996_97, stats_append_2022_23], ignore_index=True)\n",
    "nba_player_df[\"BHOF\"] = False\n",
    "nba_player_df.loc[nba_player_df[\"Player\"].str.contains(\"*\", regex=False),\"BHOF\"] = True\n",
    "nba_player_df[\"Player\"] = nba_player_df[\"Player\"].str.strip(\"*\")\n",
    "nba_player_df = nba_player_df.merge(nba_team_list, how=\"left\", on=\"Tm\", validate=\"many_to_one\").drop(columns=[\"Rk\"])\n",
    "nba_player_df = nba_player_df.sort_values(by=['Season', 'Player']).reset_index(drop=True)\n",
    "nba_player_df.insert(3, 'Season', nba_player_df.pop('Season'))\n",
    "nba_player_df.insert(4, 'Team', nba_player_df.pop('Team'))\n",
    "nba_player_df.insert(5, 'Season_MVP', nba_player_df.pop('MVP'))\n",
    "nba_player_df.insert(6, 'BHOF', nba_player_df.pop('BHOF'))\n",
    "nba_player_df.insert(len(nba_player_df.columns)-1, 'Tm', nba_player_df.pop('Tm'))\n",
    "nba_player_df[\"FG%\"] = nba_player_df[\"FG%\"].apply(lambda x: str(round(x*100, 1))+\"%\")\n",
    "nba_player_df[\"3P%\"] = nba_player_df[\"3P%\"].apply(lambda x: str(round(x*100, 1))+\"%\")\n",
    "nba_player_df[\"2P%\"] = nba_player_df[\"2P%\"].apply(lambda x: str(round(x*100, 1))+\"%\")\n",
    "nba_player_df[\"eFG%\"] = nba_player_df[\"eFG%\"].apply(lambda x: str(round(x*100, 1))+\"%\")\n",
    "nba_player_df[\"FT%\"] = nba_player_df[\"FT%\"].apply(lambda x: str(round(x*100, 1))+\"%\")\n",
    "nba_player_df"
   ]
  },
  {
   "cell_type": "code",
   "execution_count": null,
   "id": "69d4a677",
   "metadata": {
    "scrolled": true
   },
   "outputs": [],
   "source": [
    "nba_player_df[nba_player_df[\"Player\"]==\"Kobe Bryant\"]"
   ]
  },
  {
   "cell_type": "code",
   "execution_count": null,
   "id": "f0f9dd96",
   "metadata": {},
   "outputs": [],
   "source": [
    "sum(nba_player_df[nba_player_df[\"Player\"]==\"Kobe Bryant\"][\"BHOF\"])"
   ]
  },
  {
   "cell_type": "code",
   "execution_count": null,
   "id": "2db7fe94",
   "metadata": {},
   "outputs": [],
   "source": [
    "sum(nba_player_df[nba_player_df[\"Player\"]==\"LeBron James\"][\"BHOF\"])"
   ]
  },
  {
   "cell_type": "code",
   "execution_count": null,
   "id": "ed650cb3",
   "metadata": {},
   "outputs": [],
   "source": [
    "round(0.80*100, 1)"
   ]
  },
  {
   "cell_type": "code",
   "execution_count": null,
   "id": "f5fff0e0",
   "metadata": {},
   "outputs": [],
   "source": [
    "round(float(10),0)"
   ]
  },
  {
   "cell_type": "code",
   "execution_count": null,
   "id": "bfa01a24",
   "metadata": {},
   "outputs": [],
   "source": [
    "nba_player_df.info()"
   ]
  },
  {
   "cell_type": "code",
   "execution_count": null,
   "id": "a47a7317",
   "metadata": {},
   "outputs": [],
   "source": []
  },
  {
   "cell_type": "code",
   "execution_count": null,
   "id": "9af48ff3",
   "metadata": {},
   "outputs": [],
   "source": [
    "class Figure_Canvas(FigureCanvas):   # 通過繼承FigureCanvas類，使得該類既是一個PyQt5的Qwidget，又是一個matplotlib的FigureCanvas，這是連線pyqt5與matplotlib的關鍵\n",
    "    def __init__(self, parent=None, width=10, height=10):\n",
    "        fig, self.ax1 = plt.subplots(figsize=(width, height), tight_layout=True)\n",
    "        FigureCanvas.__init__(self, fig)\n",
    "        self.setParent(parent)\n",
    "\n",
    "\n",
    "    def plot_chart(self, mode=\"Shelf\", label_data=None):\n",
    "        # Encoder Mode\n",
    "        if mode == \"Encoder\":\n",
    "            plt.title(\"P12 Map (Encoder Mode)\", fontproperties=myfont, fontsize=12)\n",
    "            plt.xlabel('Position_X', fontproperties=myfont, fontsize=10)\n",
    "            plt.ylabel('Position_Y', fontproperties=myfont, fontsize=10)\n",
    "            plt.xticks(fontsize=12)\n",
    "            plt.yticks(fontsize=12)\n",
    "            # https://moonbooks.org/Articles/How-to-plot-points-in-front-of-a-line-in-matplotlib-/\n",
    "            for i in range(0, map_data.shape[0], 2):\n",
    "                plt.plot(\"Position_X\", \"Position_Y\", data=map_data.iloc[i:i+2], linewidth=5, c=\"black\", zorder=1)  # c=\"C0\"\n",
    "            if isinstance(label_data, pd.DataFrame):\n",
    "                label_data = label_data[[\"Position_X\", \"Position_Y\"]].drop_duplicates().sort_values(by=[\"Position_X\", \"Position_Y\"])\n",
    "                plt.scatter(\"Position_X\", \"Position_Y\", data=label_data, c=\"red\", zorder=2, s=50)\n",
    "            self.ax1.xaxis.set_major_locator(ticker.MultipleLocator(5000))\n",
    "            self.ax1.yaxis.set_major_locator(ticker.MultipleLocator(2500))\n",
    "            self.ax1.invert_yaxis()\n",
    "            self.ax1.set_ylim((48500, -2000))\n",
    "            self.ax1.set_xlim((-4000, 48500))\n",
    "        # Shelf Mode\n",
    "        elif mode == \"Shelf\":\n",
    "            plt.title(\"P12 Map (Shelf Mode)\", fontproperties=myfont, fontsize=12)\n",
    "            plt.xlabel('Position_X', fontproperties=myfont, fontsize=8)\n",
    "            plt.ylabel('Position_Y', fontproperties=myfont, fontsize=8)\n",
    "            plt.xticks(fontsize=9)\n",
    "            plt.yticks(fontsize=8)\n",
    "            # https://matplotlib.org/3.5.1/users/prev_whats_new/dflt_style_changes.html\n",
    "            # https://matplotlib.org/stable/api/markers_api.html\n",
    "            plt.scatter(\"Position_X\", \"Position_Y\", data=pd.read_csv(\"P12_map_V03-1.csv\"), marker=\"s\", color=\"white\", zorder=0, s=13)  # 通道+儲位\n",
    "            plt.scatter(\"Position_X\", \"Position_Y\", data=pd.read_csv(\"P12_map_V03-2.csv\"), marker=\"s\", color=\"C0\", zorder=1, s=13)  # 通道\n",
    "            plt.scatter(\"Position_X\", \"Position_Y\", data=pd.read_csv(\"P12_map_V03-3.csv\"), marker=\"s\", color=\"yellow\", zorder=2, s=13)  # 充電樁\n",
    "            if isinstance(label_data, pd.DataFrame):\n",
    "                label_data = label_data[[\"Position_X\", \"Position_Y\"]].drop_duplicates().sort_values(by=[\"Position_X\", \"Position_Y\"])\n",
    "                plt.scatter(\"Position_X\", \"Position_Y\", data=label_data, marker=\"s\", color=\"red\", zorder=3, s=15)  # 異常點位置\n",
    "            plt.grid(None)\n",
    "            self.ax1.set_facecolor('black')\n",
    "            self.ax1.xaxis.set_major_locator(ticker.MultipleLocator(2))\n",
    "            self.ax1.yaxis.set_major_locator(ticker.MultipleLocator(2))\n",
    "            self.ax1.set_ylim((83.9, 0.1))\n",
    "            self.ax1.set_xlim((0.1, 64.9))\n",
    "\n",
    "        global error_location\n",
    "        if isinstance(label_data, pd.DataFrame):\n",
    "            error_location = \"\"\n",
    "            for xy in label_data[[\"Position_X\", \"Position_Y\"]].values.tolist():\n",
    "                error_location += str(xy)+\"\\n\\n\"\n",
    "            error_location = error_location.strip()\n",
    "        else:\n",
    "            error_location = \"\""
   ]
  },
  {
   "cell_type": "code",
   "execution_count": null,
   "id": "853ea9dd",
   "metadata": {},
   "outputs": [],
   "source": [
    "    def setup_control(self):\n",
    "        # 加载的图形（FigureCanvas）不能直接放到graphicview控件中，必须先放到graphicScene，然后再把graphicscene放到graphicview中\n",
    "        dr = Figure_Canvas(width=self.ui.graphicsView_1.width()/100.5, height=self.ui.graphicsView_1.height()/100.5)\n",
    "        dr.plot_chart()\n",
    "        GS = QGraphicsScene()  # 创建一个QGraphicsScene\n",
    "        GS.addWidget(dr)  # 把图形放到QGraphicsScene中，注意：图形是作为一个QWidget放到放到QGraphicsScene中的\n",
    "        self.ui.graphicsView_1.setScene(GS)  # 把QGraphicsScene放入QGraphicsView\n",
    "        self.ui.graphicsView_1.show()  # 调用show方法呈现图形"
   ]
  },
  {
   "cell_type": "code",
   "execution_count": null,
   "id": "1d0a5f40",
   "metadata": {},
   "outputs": [],
   "source": [
    "    def creat_table_show(self, n):\n",
    "        self.ui.tableWidget.clear()\n",
    "        df_table = get_df_table_data(self.ui.comboBox_1.currentText(), self.ui.comboBox_2.currentText(), self.ui.comboBox_3.currentText(), self.ui.comboBox_4.currentText())\n",
    "        df_table_nrows = df_table.shape[0]\n",
    "        df_table_ncolumns = df_table.shape[1]\n",
    "        df_table_columns_names = df_table.columns\n",
    "\n",
    "        # PLC Data\n",
    "        if \"PLC\" in self.ui.comboBox_4.currentText():\n",
    "            self.ui.graphicsView_1.setScene(None)\n",
    "            dr = Figure_Canvas(width=self.ui.graphicsView_1.width()/100.5, height=self.ui.graphicsView_1.height()/100.5)\n",
    "            # Encoder Mode\n",
    "            if self.ui.comboBox_5.currentText() == \"Encoder\":\n",
    "                dr.plot_chart(mode=self.ui.comboBox_5.currentText(), label_data=df_table)\n",
    "            # Shelf Mode\n",
    "            elif self.ui.comboBox_5.currentText() == \"Shelf\":\n",
    "                tmp_table = df_table[[\"Shelf_ID\"]]\n",
    "                tmp_table[\"Position_X\"] = tmp_table[\"Shelf_ID\"].apply(lambda x: int(x[-8:-5]))\n",
    "                tmp_table[\"Position_Y\"] = tmp_table[\"Shelf_ID\"].apply(lambda x: int(x[-5:-2]))\n",
    "                dr.plot_chart(mode=self.ui.comboBox_5.currentText(), label_data=tmp_table)\n",
    "            GS = QGraphicsScene()\n",
    "            GS.addWidget(dr)\n",
    "            self.ui.graphicsView_1.setScene(GS)\n",
    "            self.ui.graphicsView_1.show()\n",
    "\n",
    "        # ShuttleProc Data\n",
    "        elif \"ShuttleProc\" in self.ui.comboBox_4.currentText():\n",
    "            self.ui.graphicsView_1.setScene(None)\n",
    "            dr = Figure_Canvas(width=self.ui.graphicsView_1.width()/100.5, height=self.ui.graphicsView_1.height()/100.5)\n",
    "            # Encoder Mode\n",
    "            if self.ui.comboBox_5.currentText() == \"Encoder\":\n",
    "                tmp_table = get_df_table_data(self.ui.comboBox_1.currentText(), self.ui.comboBox_2.currentText(), self.ui.comboBox_3.currentText(), self.ui.comboBox_4.currentText().replace(\"ShuttleProc\", \"PLC\"))\n",
    "                dr.plot_chart(mode=self.ui.comboBox_5.currentText(), label_data=tmp_table)\n",
    "            # Shelf Mode\n",
    "            elif self.ui.comboBox_5.currentText() == \"Shelf\":\n",
    "                tmp_table = get_df_table_data(self.ui.comboBox_1.currentText(), self.ui.comboBox_2.currentText(), self.ui.comboBox_3.currentText(), self.ui.comboBox_4.currentText().replace(\"ShuttleProc\", \"PLC\"))[[\"Shelf_ID\"]]\n",
    "                tmp_table[\"Position_X\"] = tmp_table[\"Shelf_ID\"].apply(lambda x: int(x[-8:-5]))\n",
    "                tmp_table[\"Position_Y\"] = tmp_table[\"Shelf_ID\"].apply(lambda x: int(x[-5:-2]))\n",
    "                dr.plot_chart(mode=self.ui.comboBox_5.currentText(), label_data=tmp_table)\n",
    "            GS = QGraphicsScene()\n",
    "            GS.addWidget(dr)\n",
    "            self.ui.graphicsView_1.setScene(GS)\n",
    "            self.ui.graphicsView_1.show()\n",
    "\n",
    "        if n == 1:\n",
    "            self.ui.tableWidget.setColumnCount(df_table_ncolumns)\n",
    "            self.ui.tableWidget.setRowCount(df_table_nrows)\n",
    "            self.ui.tableWidget.setHorizontalHeaderLabels(df_table_columns_names)\n",
    "            for i in range(0, df_table_nrows):\n",
    "                df_table_row_values_list = list(df_table.iloc[i])\n",
    "                self.ui.tableWidget.setRowHeight(i, 1.2)\n",
    "                for j in range(0, df_table_ncolumns):\n",
    "                    df_table_values_item = str(df_table_row_values_list[j])\n",
    "                    new_item = QTableWidgetItem(df_table_values_item)\n",
    "                    new_item.setTextAlignment(Qt.AlignHCenter | Qt.AlignVCenter)\n",
    "                    self.ui.tableWidget.setItem(i, j, new_item)\n",
    "                    self.ui.tableWidget.horizontalHeader().setSectionResizeMode(j, QHeaderView.ResizeToContents)\n",
    "        self.ui.plainTextEdit_3.setPlainText(\"Done!\")\n",
    "        self.ui.plainTextEdit_4.setPlainText(error_location)"
   ]
  },
  {
   "cell_type": "code",
   "execution_count": null,
   "id": "d878fa10",
   "metadata": {},
   "outputs": [],
   "source": [
    "    def pushButton_4_clicked(self):\n",
    "        self.ui.graphicsView_1.setScene(None)\n",
    "        dr = Figure_Canvas(width=self.ui.graphicsView_1.width()/100.5, height=self.ui.graphicsView_1.height()/100.5)\n",
    "        dr.plot_chart(mode=self.ui.comboBox_5.currentText())\n",
    "        GS = QGraphicsScene()\n",
    "        GS.addWidget(dr)\n",
    "        self.ui.graphicsView_1.setScene(GS)\n",
    "        self.ui.graphicsView_1.show()"
   ]
  },
  {
   "cell_type": "code",
   "execution_count": null,
   "id": "8e61f6e7",
   "metadata": {},
   "outputs": [],
   "source": []
  },
  {
   "cell_type": "code",
   "execution_count": null,
   "id": "bf9f9454",
   "metadata": {},
   "outputs": [],
   "source": []
  },
  {
   "cell_type": "code",
   "execution_count": null,
   "id": "ed8e4dc7",
   "metadata": {},
   "outputs": [],
   "source": []
  },
  {
   "cell_type": "code",
   "execution_count": null,
   "id": "3dfcb02a",
   "metadata": {},
   "outputs": [],
   "source": []
  },
  {
   "cell_type": "code",
   "execution_count": null,
   "id": "8faed276",
   "metadata": {
    "scrolled": true
   },
   "outputs": [],
   "source": [
    "nba_player_df.info()"
   ]
  },
  {
   "cell_type": "code",
   "execution_count": null,
   "id": "32dfe7fb",
   "metadata": {},
   "outputs": [],
   "source": [
    "# nba_player_df.to_excel(\"nba_player_df.xlsx\")\n",
    "# nba_player_df.to_csv(\"nba_player_df.csv\")"
   ]
  },
  {
   "cell_type": "code",
   "execution_count": null,
   "id": "af8aaf20",
   "metadata": {},
   "outputs": [],
   "source": [
    "nba_player_df[nba_player_df[\"Player\"].str.contains(\"ulionis\", regex=False)]"
   ]
  },
  {
   "cell_type": "code",
   "execution_count": null,
   "id": "18f84d22",
   "metadata": {},
   "outputs": [],
   "source": [
    "nba_player_df[nba_player_df[\"Player\"].str.contains(\"?\", regex=False)]"
   ]
  },
  {
   "cell_type": "code",
   "execution_count": null,
   "id": "a5083120",
   "metadata": {
    "scrolled": true
   },
   "outputs": [],
   "source": [
    "nba_player_df[nba_player_df[\"Player\"].str.contains(\"vis Bert\", regex=False)]"
   ]
  },
  {
   "cell_type": "code",
   "execution_count": null,
   "id": "66353387",
   "metadata": {},
   "outputs": [],
   "source": [
    "nba_player_df[nba_player_df[\"Player\"].str.contains(\"Alperen\", regex=False)] "
   ]
  },
  {
   "cell_type": "code",
   "execution_count": null,
   "id": "d3b142b7",
   "metadata": {
    "scrolled": true
   },
   "outputs": [],
   "source": [
    "nba_player_df[nba_player_df[\"Player\"].str.contains(\"Boban Marjanov\", regex=False)]"
   ]
  },
  {
   "cell_type": "code",
   "execution_count": null,
   "id": "93b37649",
   "metadata": {},
   "outputs": [],
   "source": []
  },
  {
   "cell_type": "code",
   "execution_count": null,
   "id": "4ae5e17a",
   "metadata": {},
   "outputs": [],
   "source": []
  },
  {
   "cell_type": "code",
   "execution_count": null,
   "id": "317e9e30",
   "metadata": {
    "scrolled": true
   },
   "outputs": [],
   "source": [
    "nba_player_df[nba_player_df[\"Player\"]==\"Kobe Bryant\"]"
   ]
  },
  {
   "cell_type": "code",
   "execution_count": null,
   "id": "3109642a",
   "metadata": {
    "scrolled": true
   },
   "outputs": [],
   "source": [
    "nba_player_df[nba_player_df[\"Player\"]==\"LeBron James\"]"
   ]
  },
  {
   "cell_type": "code",
   "execution_count": null,
   "id": "8524586a",
   "metadata": {
    "scrolled": true
   },
   "outputs": [],
   "source": [
    "nba_player_df[(nba_player_df[\"Team\"]==\"Los Angeles Lakers\") & (nba_player_df[\"Season\"]==\"2022-23\")]"
   ]
  },
  {
   "cell_type": "code",
   "execution_count": null,
   "id": "afd5bbfa",
   "metadata": {},
   "outputs": [],
   "source": []
  },
  {
   "cell_type": "code",
   "execution_count": null,
   "id": "0f987f50",
   "metadata": {},
   "outputs": [],
   "source": []
  },
  {
   "cell_type": "code",
   "execution_count": null,
   "id": "9a4a63d0",
   "metadata": {},
   "outputs": [],
   "source": []
  },
  {
   "cell_type": "code",
   "execution_count": null,
   "id": "c4e138c0",
   "metadata": {},
   "outputs": [],
   "source": []
  },
  {
   "cell_type": "code",
   "execution_count": null,
   "id": "bf02af0f",
   "metadata": {},
   "outputs": [],
   "source": [
    "sorted(set(nba_player_df[\"Team\"]))"
   ]
  },
  {
   "cell_type": "code",
   "execution_count": null,
   "id": "12ffa9b1",
   "metadata": {},
   "outputs": [],
   "source": [
    "# sorted(set(nba_player_df[\"Player\"]))"
   ]
  },
  {
   "cell_type": "code",
   "execution_count": null,
   "id": "3e7cb389",
   "metadata": {
    "scrolled": true
   },
   "outputs": [],
   "source": [
    "# sorted(set(nba_player_df[\"Tm\"]))"
   ]
  },
  {
   "cell_type": "code",
   "execution_count": null,
   "id": "d973dd21",
   "metadata": {},
   "outputs": [],
   "source": [
    "sorted(set(nba_player_df[\"Season\"]))"
   ]
  },
  {
   "cell_type": "code",
   "execution_count": null,
   "id": "762e04b3",
   "metadata": {},
   "outputs": [],
   "source": []
  },
  {
   "cell_type": "code",
   "execution_count": null,
   "id": "94f0b426",
   "metadata": {},
   "outputs": [],
   "source": []
  },
  {
   "cell_type": "code",
   "execution_count": null,
   "id": "3407cc4a",
   "metadata": {},
   "outputs": [],
   "source": []
  },
  {
   "cell_type": "code",
   "execution_count": null,
   "id": "08b69cb8",
   "metadata": {},
   "outputs": [],
   "source": []
  },
  {
   "cell_type": "code",
   "execution_count": null,
   "id": "20be0cff",
   "metadata": {},
   "outputs": [],
   "source": []
  },
  {
   "cell_type": "code",
   "execution_count": null,
   "id": "29ce1969",
   "metadata": {},
   "outputs": [],
   "source": []
  },
  {
   "cell_type": "code",
   "execution_count": null,
   "id": "24d87627",
   "metadata": {},
   "outputs": [],
   "source": []
  }
 ],
 "metadata": {
  "kernelspec": {
   "display_name": "Python 3 (ipykernel)",
   "language": "python",
   "name": "python3"
  },
  "language_info": {
   "codemirror_mode": {
    "name": "ipython",
    "version": 3
   },
   "file_extension": ".py",
   "mimetype": "text/x-python",
   "name": "python",
   "nbconvert_exporter": "python",
   "pygments_lexer": "ipython3",
   "version": "3.8.12"
  }
 },
 "nbformat": 4,
 "nbformat_minor": 5
}
