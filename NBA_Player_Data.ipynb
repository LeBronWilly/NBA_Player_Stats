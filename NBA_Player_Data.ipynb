{
 "cells": [
  {
   "cell_type": "code",
   "execution_count": null,
   "id": "09dfbbb3",
   "metadata": {},
   "outputs": [],
   "source": [
    "# -*- coding: utf-8 -*-\n",
    "\"\"\"\n",
    "Created on 05/13, 2023\n",
    "@author: WillyF\n",
    "\n",
    "\"\"\"\n",
    "# https://data.world/etocco/nba-player-stats\n",
    "# https://www.basketball-reference.com/leagues/NBA_1997_per_game.html\n",
    "# https://www.statscrew.com/basketball/t-WSB\n",
    "\n",
    "\n"
   ]
  },
  {
   "cell_type": "code",
   "execution_count": null,
   "id": "f9dc2d21",
   "metadata": {},
   "outputs": [],
   "source": [
    "import pandas as pd\n",
    "import urllib.request\n",
    "import json\n",
    "import numpy as np\n",
    "# from glob import glob\n",
    "import os\n",
    "from warnings import filterwarnings\n",
    "filterwarnings(\"ignore\")\n",
    "pd.set_option('display.max_columns', 500)\n",
    "pd.set_option('display.max_rows', 500)"
   ]
  },
  {
   "cell_type": "code",
   "execution_count": null,
   "id": "92f5a6d9",
   "metadata": {},
   "outputs": [],
   "source": [
    "stats_append_1996_97 = pd.read_csv('https://raw.githubusercontent.com/LeBronWilly/NBA_Player_Stats/main/1996-97_Stats_Append.txt').fillna(0.000).drop(columns=[\"Player-additional\"])\n",
    "stats_append_1996_97[\"Season\"] = \"1996-97\"\n",
    "stats_append_1996_97[\"MVP\"] = False\n",
    "stats_append_1996_97.loc[stats_append_1996_97[\"Player\"].str.contains(\"Karl Malone\", regex=False),\"MVP\"] = True\n",
    "\n",
    "stats_append_2022_23 = pd.read_csv('https://raw.githubusercontent.com/LeBronWilly/NBA_Player_Stats/main/2022-23_Stats_Append.txt').fillna(0.000).drop(columns=[\"Player-additional\"])\n",
    "stats_append_2022_23[\"Season\"] = \"2022-23\"\n",
    "stats_append_2022_23[\"MVP\"] = False\n",
    "stats_append_2022_23.loc[stats_append_2022_23[\"Player\"].str.contains(\"Joel Embiid\", regex=False),\"MVP\"] = True"
   ]
  },
  {
   "cell_type": "code",
   "execution_count": null,
   "id": "7f789801",
   "metadata": {
    "scrolled": true
   },
   "outputs": [],
   "source": [
    "nba_team_list = pd.read_csv('https://raw.githubusercontent.com/LeBronWilly/NBA_Player_Stats/main/NBA_Team_List.csv').fillna(0.000)\n",
    "nba_player_df = pd.read_csv('https://query.data.world/s/ty4piswbrsp54noyh2bdvrjecv24ta?dws=00000').fillna(0.000)\n",
    "nba_player_df = pd.concat([nba_player_df,stats_append_1996_97, stats_append_2022_23], ignore_index=True)\n",
    "nba_player_df[\"BHOF\"] = False\n",
    "nba_player_df.loc[nba_player_df[\"Player\"].str.contains(\"*\", regex=False),\"BHOF\"] = True\n",
    "nba_player_df[\"Player\"] = nba_player_df[\"Player\"].str.strip(\"*\")\n",
    "nba_player_df = nba_player_df.merge(nba_team_list, how=\"left\", on=\"Tm\", validate=\"many_to_one\").drop(columns=[\"Rk\"])\n",
    "nba_player_df = nba_player_df.sort_values(by=['Season', 'Player']).reset_index(drop=True)\n",
    "nba_player_df.insert(3, 'Season', nba_player_df.pop('Season'))\n",
    "nba_player_df.insert(4, 'Team', nba_player_df.pop('Team'))\n",
    "nba_player_df.insert(5, 'Season_MVP', nba_player_df.pop('MVP'))\n",
    "nba_player_df.insert(6, 'BHOF', nba_player_df.pop('BHOF'))\n",
    "nba_player_df.insert(len(nba_player_df.columns)-1, 'Tm', nba_player_df.pop('Tm'))\n",
    "nba_player_df"
   ]
  },
  {
   "cell_type": "code",
   "execution_count": null,
   "id": "69d4a677",
   "metadata": {},
   "outputs": [],
   "source": []
  },
  {
   "cell_type": "code",
   "execution_count": null,
   "id": "ed8e4dc7",
   "metadata": {},
   "outputs": [],
   "source": []
  },
  {
   "cell_type": "code",
   "execution_count": null,
   "id": "3dfcb02a",
   "metadata": {},
   "outputs": [],
   "source": []
  },
  {
   "cell_type": "code",
   "execution_count": null,
   "id": "8faed276",
   "metadata": {
    "scrolled": true
   },
   "outputs": [],
   "source": [
    "nba_player_df.info()"
   ]
  },
  {
   "cell_type": "code",
   "execution_count": null,
   "id": "32dfe7fb",
   "metadata": {},
   "outputs": [],
   "source": [
    "# nba_player_df.to_excel(\"nba_player_df.xlsx\")\n",
    "# nba_player_df.to_csv(\"nba_player_df.csv\")"
   ]
  },
  {
   "cell_type": "code",
   "execution_count": null,
   "id": "af8aaf20",
   "metadata": {},
   "outputs": [],
   "source": [
    "nba_player_df[nba_player_df[\"Player\"].str.contains(\"ulionis\", regex=False)]"
   ]
  },
  {
   "cell_type": "code",
   "execution_count": null,
   "id": "18f84d22",
   "metadata": {},
   "outputs": [],
   "source": [
    "nba_player_df[nba_player_df[\"Player\"].str.contains(\"?\", regex=False)]"
   ]
  },
  {
   "cell_type": "code",
   "execution_count": null,
   "id": "a5083120",
   "metadata": {
    "scrolled": true
   },
   "outputs": [],
   "source": [
    "nba_player_df[nba_player_df[\"Player\"].str.contains(\"vis Bert\", regex=False)]"
   ]
  },
  {
   "cell_type": "code",
   "execution_count": null,
   "id": "66353387",
   "metadata": {},
   "outputs": [],
   "source": [
    "nba_player_df[nba_player_df[\"Player\"].str.contains(\"Alperen\", regex=False)] "
   ]
  },
  {
   "cell_type": "code",
   "execution_count": null,
   "id": "d3b142b7",
   "metadata": {
    "scrolled": true
   },
   "outputs": [],
   "source": [
    "nba_player_df[nba_player_df[\"Player\"].str.contains(\"Boban Marjanov\", regex=False)]"
   ]
  },
  {
   "cell_type": "code",
   "execution_count": null,
   "id": "93b37649",
   "metadata": {},
   "outputs": [],
   "source": []
  },
  {
   "cell_type": "code",
   "execution_count": null,
   "id": "4ae5e17a",
   "metadata": {},
   "outputs": [],
   "source": []
  },
  {
   "cell_type": "code",
   "execution_count": null,
   "id": "317e9e30",
   "metadata": {
    "scrolled": true
   },
   "outputs": [],
   "source": [
    "nba_player_df[nba_player_df[\"Player\"]==\"Kobe Bryant\"]"
   ]
  },
  {
   "cell_type": "code",
   "execution_count": null,
   "id": "3109642a",
   "metadata": {
    "scrolled": true
   },
   "outputs": [],
   "source": [
    "nba_player_df[nba_player_df[\"Player\"]==\"LeBron James\"]"
   ]
  },
  {
   "cell_type": "code",
   "execution_count": null,
   "id": "8524586a",
   "metadata": {
    "scrolled": true
   },
   "outputs": [],
   "source": [
    "nba_player_df[(nba_player_df[\"Team\"]==\"Los Angeles Lakers\") & (nba_player_df[\"Season\"]==\"2022-23\")]"
   ]
  },
  {
   "cell_type": "code",
   "execution_count": null,
   "id": "afd5bbfa",
   "metadata": {},
   "outputs": [],
   "source": []
  },
  {
   "cell_type": "code",
   "execution_count": null,
   "id": "0f987f50",
   "metadata": {},
   "outputs": [],
   "source": []
  },
  {
   "cell_type": "code",
   "execution_count": null,
   "id": "9a4a63d0",
   "metadata": {},
   "outputs": [],
   "source": []
  },
  {
   "cell_type": "code",
   "execution_count": null,
   "id": "c4e138c0",
   "metadata": {},
   "outputs": [],
   "source": []
  },
  {
   "cell_type": "code",
   "execution_count": null,
   "id": "bf02af0f",
   "metadata": {},
   "outputs": [],
   "source": [
    "sorted(set(nba_player_df[\"Team\"]))"
   ]
  },
  {
   "cell_type": "code",
   "execution_count": null,
   "id": "12ffa9b1",
   "metadata": {},
   "outputs": [],
   "source": [
    "# sorted(set(nba_player_df[\"Player\"]))"
   ]
  },
  {
   "cell_type": "code",
   "execution_count": null,
   "id": "3e7cb389",
   "metadata": {
    "scrolled": true
   },
   "outputs": [],
   "source": [
    "# sorted(set(nba_player_df[\"Tm\"]))"
   ]
  },
  {
   "cell_type": "code",
   "execution_count": null,
   "id": "d973dd21",
   "metadata": {},
   "outputs": [],
   "source": [
    "sorted(set(nba_player_df[\"Season\"]))"
   ]
  },
  {
   "cell_type": "code",
   "execution_count": null,
   "id": "762e04b3",
   "metadata": {},
   "outputs": [],
   "source": []
  },
  {
   "cell_type": "code",
   "execution_count": null,
   "id": "94f0b426",
   "metadata": {},
   "outputs": [],
   "source": []
  },
  {
   "cell_type": "code",
   "execution_count": null,
   "id": "3407cc4a",
   "metadata": {},
   "outputs": [],
   "source": []
  },
  {
   "cell_type": "code",
   "execution_count": null,
   "id": "08b69cb8",
   "metadata": {},
   "outputs": [],
   "source": []
  },
  {
   "cell_type": "code",
   "execution_count": null,
   "id": "20be0cff",
   "metadata": {},
   "outputs": [],
   "source": []
  },
  {
   "cell_type": "code",
   "execution_count": null,
   "id": "29ce1969",
   "metadata": {},
   "outputs": [],
   "source": []
  },
  {
   "cell_type": "code",
   "execution_count": null,
   "id": "24d87627",
   "metadata": {},
   "outputs": [],
   "source": []
  }
 ],
 "metadata": {
  "kernelspec": {
   "display_name": "Python 3 (ipykernel)",
   "language": "python",
   "name": "python3"
  },
  "language_info": {
   "codemirror_mode": {
    "name": "ipython",
    "version": 3
   },
   "file_extension": ".py",
   "mimetype": "text/x-python",
   "name": "python",
   "nbconvert_exporter": "python",
   "pygments_lexer": "ipython3",
   "version": "3.8.12"
  }
 },
 "nbformat": 4,
 "nbformat_minor": 5
}
